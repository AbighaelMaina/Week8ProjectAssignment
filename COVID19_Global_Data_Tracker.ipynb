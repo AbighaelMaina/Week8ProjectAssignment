{
 "cells": [
  {
   "cell_type": "markdown",
   "id": "9fdcb1d1",
   "metadata": {},
   "source": [
    "# 🦠 COVID-19 Global Data Tracker\n",
    "This notebook analyzes global COVID-19 trends, focusing on cases, deaths, and vaccinations for selected countries."
   ]
  },
  {
   "cell_type": "code",
   "execution_count": null,
   "id": "f958c955",
   "metadata": {},
   "outputs": [],
   "source": [
    "# Step 1: Import necessary libraries\n",
    "import pandas as pd\n",
    "import matplotlib.pyplot as plt\n",
    "import seaborn as sns\n",
    "\n",
    "sns.set(style='whitegrid')  # Set Seaborn style\n",
    "plt.rcParams['figure.figsize'] = (12, 6)"
   ]
  },
  {
   "cell_type": "code",
   "execution_count": null,
   "id": "3b1ea605",
   "metadata": {},
   "outputs": [],
   "source": [
    "# Step 2: Load the dataset\n",
    "try:\n",
    "    df = pd.read_csv('owid-covid-data.csv')\n",
    "    print(\"✅ Dataset loaded successfully!\")\n",
    "except FileNotFoundError:\n",
    "    print(\"❌ File not found. Please make sure 'owid-covid-data.csv' is in this folder.\")"
   ]
  },
  {
   "cell_type": "code",
   "execution_count": null,
   "id": "68dc1339",
   "metadata": {},
   "outputs": [],
   "source": [
    "# Step 3: Quick look at the dataset\n",
    "df.head()"
   ]
  },
  {
   "cell_type": "code",
   "execution_count": null,
   "id": "0937ac2d",
   "metadata": {},
   "outputs": [],
   "source": [
    "# Step 4: Select relevant columns and filter by countries\n",
    "columns_needed = ['location', 'date', 'total_cases', 'total_deaths', 'new_cases', 'new_deaths', 'total_vaccinations']\n",
    "df = df[columns_needed]\n",
    "df['date'] = pd.to_datetime(df['date'])\n",
    "\n",
    "countries = ['Kenya', 'United States', 'India']\n",
    "df = df[df['location'].isin(countries)]\n",
    "\n",
    "# Fill missing values with 0 for simplicity\n",
    "df.fillna(0, inplace=True)\n",
    "df.head()"
   ]
  },
  {
   "cell_type": "code",
   "execution_count": null,
   "id": "b5b3b063",
   "metadata": {},
   "outputs": [],
   "source": [
    "# Step 5: Plot total COVID-19 cases over time\n",
    "for country in countries:\n",
    "    country_data = df[df['location'] == country]\n",
    "    plt.plot(country_data['date'], country_data['total_cases'], label=country)\n",
    "\n",
    "plt.title('Total COVID-19 Cases Over Time')\n",
    "plt.xlabel('Date')\n",
    "plt.ylabel('Total Cases')\n",
    "plt.legend()\n",
    "plt.tight_layout()\n",
    "plt.show()"
   ]
  }
 ],
 "metadata": {
  "language_info": {
   "name": "python"
  }
 },
 "nbformat": 4,
 "nbformat_minor": 5
}
